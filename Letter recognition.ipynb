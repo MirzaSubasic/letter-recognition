{
 "cells": [
  {
   "cell_type": "code",
   "execution_count": null,
   "metadata": {
    "collapsed": true
   },
   "outputs": [],
   "source": [
    "import pandas as pd\n",
    "import os\n",
    "import matplotlib.pyplot as plt"
   ]
  },
  {
   "cell_type": "code",
   "execution_count": null,
   "metadata": {
    "collapsed": false
   },
   "outputs": [],
   "source": [
    "dataset_path = os.getcwd()\n",
    "dataset_path += \"\\\\A_Z Handwritten Data.csv\"\n",
    "dataset_path_path = os.path.abspath(dataset_path)\n",
    "\n",
    "df = pd.read_csv(dataset_path)\n",
    "\n",
    "# print first 5 rows\n",
    "df.head(5)"
   ]
  },
  {
   "cell_type": "markdown",
   "metadata": {
    "collapsed": false
   },
   "source": [
    "## DATA PREPROCESSING"
   ]
  },
  {
   "cell_type": "code",
   "execution_count": null,
   "metadata": {
    "collapsed": false
   },
   "outputs": [],
   "source": [
    "# extract class labels into separate dataframe\n",
    "class_column = df['0']\n",
    "del df['0']"
   ]
  },
  {
   "cell_type": "code",
   "execution_count": null,
   "metadata": {
    "collapsed": false
   },
   "outputs": [],
   "source": [
    "class_column_letters = class_column.replace([0,1,2,3,4,5,6,7,8,9,10,11,12,13,14,15,16,17,18,19,20,21,22,23,24,25], ['A', 'B', 'C', 'D', 'E', 'F', 'G', 'H', 'I', 'J', 'K', 'L', 'M', 'N', 'O', 'P', 'Q', 'R', 'S', 'T', 'U', 'V', 'W', 'X', 'Y', 'Z'])"
   ]
  },
  {
   "cell_type": "code",
   "execution_count": null,
   "metadata": {
    "collapsed": false
   },
   "outputs": [],
   "source": [
    "alphabet = ['O', 'S', 'U', 'C' , 'T' , 'P' , 'N', 'A', 'M', 'L', 'R', 'E', 'Y', 'W', 'D', 'B', 'J', 'H', 'X', 'Z', 'Q', 'G', 'K', 'V', 'F', 'I']\n",
    "counts = class_column_letters.value_counts()\n",
    "\n",
    "fig, ax = plt.subplots(1, 1, figsize=(24, 16))\n",
    "ax.barh(alphabet, counts, color='green',)\n",
    "\n",
    "plt.xlabel('Count')\n",
    "plt.ylabel('Letter')\n",
    "plt.yticks(fontsize=14)\n",
    "plt.title('Occurence of each letter in the dataset.', fontsize=24)\n",
    "plt.grid()\n",
    "plt.show()"
   ]
  }
 ],
 "metadata": {
  "kernelspec": {
   "display_name": "Python 3",
   "language": "python",
   "name": "python3"
  },
  "language_info": {
   "codemirror_mode": {
    "name": "ipython",
    "version": 3
   },
   "file_extension": ".py",
   "mimetype": "text/x-python",
   "name": "python",
   "nbconvert_exporter": "python",
   "pygments_lexer": "ipython3",
   "version": "3.9.13"
  }
 },
 "nbformat": 4,
 "nbformat_minor": 0
}
