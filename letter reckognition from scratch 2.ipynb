{
 "cells": [
  {
   "cell_type": "code",
   "execution_count": 29,
   "metadata": {
    "collapsed": true
   },
   "outputs": [],
   "source": [
    "import numpy as np\n",
    "import pandas as pd\n",
    "import matplotlib.pyplot as plt\n",
    "from sklearn.model_selection import train_test_split\n",
    "import os"
   ]
  },
  {
   "cell_type": "code",
   "execution_count": 30,
   "outputs": [],
   "source": [
    "class Layer_Dense:\n",
    "    def __init__(self, n_inputs, n_neurons, weight_regularizer_l1=0, weight_regularizer_l2=0,\n",
    "                 bias_regularizer_l1=0, bias_regularizer_l2=0):\n",
    "        # Initialize weights and biases\n",
    "        self.weights = 0.01 * np.random.randn(n_inputs, n_neurons)\n",
    "        self.biases = np.zeros((1, n_neurons))\n",
    "        # Set regularization strength\n",
    "        self.weight_regularizer_l1 = weight_regularizer_l1\n",
    "        self.weight_regularizer_l2 = weight_regularizer_l2\n",
    "        self.bias_regularizer_l1 = bias_regularizer_l1\n",
    "        self.bias_regularizer_l2 = bias_regularizer_l2\n",
    "\n",
    "    def forward(self, inputs, training):\n",
    "        self.inputs = inputs\n",
    "        self.output = np.dot(inputs, self.weights) + self.biases\n",
    "\n",
    "    def backward(self, dvalues):\n",
    "        # Gradients on parameters\n",
    "        self.dweights = np.dot(self.inputs.T, dvalues)\n",
    "        self.dbiases = np.sum(dvalues, axis=0, keepdims=True)\n",
    "\n",
    "        # Gradients on regularization\n",
    "        # L1 on weights\n",
    "        if self.weight_regularizer_l1 > 0:\n",
    "            dL1 = np.ones_like(self.weights)\n",
    "            dL1[self.weights < 0] = -1\n",
    "            self.dweights += self.weight_regularizer_l1 * dL1\n",
    "        # L2 on weights\n",
    "        if self.weight_regularizer_l2 > 0:\n",
    "            self.dweights += 2 * self.weight_regularizer_l2 * self.weights\n",
    "        # L1 on biases\n",
    "        if self.bias_regularizer_l1 > 0:\n",
    "            dL1 = np.ones_like(self.biases)\n",
    "            dL1[self.biases < 0] = -1\n",
    "            self.dbiases += self.bias_regularizer_l1 * dL1\n",
    "        # L2 on biases\n",
    "        if self.bias_regularizer_l2 > 0:\n",
    "            self.dbiases += 2 * self.bias_regularizer_l2 * self.biases\n",
    "        # Gradient on values\n",
    "        self.dinputs = np.dot(dvalues, self.weights.T)\n",
    "\n",
    "    def get_parameters(self):\n",
    "        return self.weights, self.biases\n",
    "\n",
    "    def set_parameters(self, weights, biases):\n",
    "        self.weights = weights\n",
    "        self.biases = biases\n"
   ],
   "metadata": {
    "collapsed": false
   }
  },
  {
   "cell_type": "code",
   "execution_count": 31,
   "outputs": [],
   "source": [
    "class Layer_Input:\n",
    "    def forward(self, inputs, training):\n",
    "        self.output = inputs"
   ],
   "metadata": {
    "collapsed": false
   }
  },
  {
   "cell_type": "code",
   "execution_count": 32,
   "outputs": [],
   "source": [
    "class Activation_ReLU:\n",
    "    def forward(self, inputs, training):\n",
    "        self.inputs = inputs\n",
    "        self.output = np.maximum(0, inputs)\n",
    "\n",
    "    def backward(self, dvalues):\n",
    "        self.dinputs = dvalues.copy()\n",
    "        self.dinputs[self.inputs <= 0] = 0\n",
    "\n",
    "    def predictions(self, outputs):\n",
    "        return outputs"
   ],
   "metadata": {
    "collapsed": false
   }
  },
  {
   "cell_type": "code",
   "execution_count": 33,
   "outputs": [],
   "source": [
    "class Activation_Softmax:\n",
    "    def forward(self, inputs, training):\n",
    "        self.inputs = inputs\n",
    "        exp_values = np.exp(inputs - np.max(inputs, axis=1,keepdims=True))\n",
    "        probabilities = exp_values / np.sum(exp_values, axis=1, keepdims=True)\n",
    "        self.output = probabilities\n",
    "\n",
    "    def backward(self, dvalues):\n",
    "        self.dinputs = np.empty_like(dvalues)\n",
    "\n",
    "        for index, (single_output, single_dvalues) in \\\n",
    "                enumerate(zip(self.output, dvalues)):\n",
    "            single_output = single_output.reshape(-1, 1)\n",
    "            jacobian_matrix = np.diagflat(single_output) - np.dot(single_output, single_output.T)\n",
    "            self.dinputs[index] = np.dot(jacobian_matrix, single_dvalues)\n",
    "\n",
    "    def predictions(self, outputs):\n",
    "        return np.argmax(outputs, axis=1)"
   ],
   "metadata": {
    "collapsed": false
   }
  },
  {
   "cell_type": "code",
   "execution_count": 34,
   "outputs": [],
   "source": [
    "class Optimizer_RMSprop:\n",
    "    def __init__(self, learning_rate=0.001, decay=0., epsilon=1e-7, rho=0.9):\n",
    "        self.learning_rate = learning_rate\n",
    "        self.current_learning_rate = learning_rate\n",
    "        self.decay = decay\n",
    "        self.iterations = 0\n",
    "        self.epsilon = epsilon\n",
    "        self.rho = rho\n",
    "\n",
    "    # Call once before any parameter updates\n",
    "    def pre_update_params(self):\n",
    "        if self.decay:\n",
    "            self.current_learning_rate = self.learning_rate * \\\n",
    "                (1. / (1. + self.decay * self.iterations))\n",
    "\n",
    "    def update_params(self, layer):\n",
    "        # If layer does not contain cache arrays,\n",
    "        # create them filled with zeros\n",
    "        if not hasattr(layer, 'weight_cache'):\n",
    "            layer.weight_cache = np.zeros_like(layer.weights)\n",
    "            layer.bias_cache = np.zeros_like(layer.biases)\n",
    "        # Update cache with squared current gradients\n",
    "        layer.weight_cache = self.rho * layer.weight_cache + (1 - self.rho) * layer.dweights**2\n",
    "        layer.bias_cache = self.rho * layer.bias_cache + (1 - self.rho) * layer.dbiases**2\n",
    "        # Vanilla SGD parameter update + normalization\n",
    "        # with square rooted cache\n",
    "        layer.weights += -self.current_learning_rate * \\\n",
    "                         layer.dweights / (np.sqrt(layer.weight_cache) + self.epsilon)\n",
    "        layer.biases += -self.current_learning_rate * \\\n",
    "                        layer.dbiases / (np.sqrt(layer.bias_cache) + self.epsilon)\n",
    "\n",
    "    # Call once after any parameter updates\n",
    "    def post_update_params(self):\n",
    "        self.iterations += 1"
   ],
   "metadata": {
    "collapsed": false
   }
  },
  {
   "cell_type": "code",
   "execution_count": 35,
   "outputs": [],
   "source": [
    "class Optimizer_Adam:\n",
    "    def __init__(self, learning_rate=0.001, decay=0., epsilon=1e-7,\n",
    "                 beta_1=0.9, beta_2=0.999):\n",
    "        self.learning_rate = learning_rate\n",
    "        self.current_learning_rate = learning_rate\n",
    "        self.decay = decay\n",
    "        self.iterations = 0\n",
    "        self.epsilon = epsilon\n",
    "        self.beta_1 = beta_1\n",
    "        self.beta_2 = beta_2\n",
    "\n",
    "    def pre_update_params(self):\n",
    "        if self.decay:\n",
    "            self.current_learning_rate = self.learning_rate * \\\n",
    "                (1. / (1. + self.decay * self.iterations))\n",
    "\n",
    "    def update_params(self, layer):\n",
    "        # If layer does not contain cache arrays,\n",
    "        # create them filled with zeros\n",
    "        if not hasattr(layer, 'weight_cache'):\n",
    "            layer.weight_momentums = np.zeros_like(layer.weights)\n",
    "            layer.weight_cache = np.zeros_like(layer.weights)\n",
    "            layer.bias_momentums = np.zeros_like(layer.biases)\n",
    "            layer.bias_cache = np.zeros_like(layer.biases)\n",
    "\n",
    "        # Update momentum  with current gradients\n",
    "        layer.weight_momentums = self.beta_1 * layer.weight_momentums + (1 - self.beta_1) * layer.dweights\n",
    "        layer.bias_momentums = self.beta_1 * layer.bias_momentums + (1 - self.beta_1) * layer.dbiases\n",
    "        # Get corrected momentum\n",
    "        # self.iteration is 0 at first pass\n",
    "        # and we need to start with 1 here\n",
    "        weight_momentums_corrected = layer.weight_momentums / (1 - self.beta_1 ** (self.iterations + 1))\n",
    "        bias_momentums_corrected = layer.bias_momentums / (1 - self.beta_1 ** (self.iterations + 1))\n",
    "        # Update cache with squared current gradients\n",
    "        layer.weight_cache = self.beta_2 * layer.weight_cache + (1 - self.beta_2) * layer.dweights**2\n",
    "        layer.bias_cache = self.beta_2 * layer.bias_cache + (1 - self.beta_2) * layer.dbiases**2\n",
    "        # Get corrected cache\n",
    "        weight_cache_corrected = layer.weight_cache / (1 - self.beta_2 ** (self.iterations + 1))\n",
    "        bias_cache_corrected = layer.bias_cache / (1 - self.beta_2 ** (self.iterations + 1))\n",
    "        # Vanilla SGD parameter update + normalization\n",
    "        # with square rooted cache\n",
    "        layer.weights += -self.current_learning_rate * weight_momentums_corrected / \\\n",
    "                         (np.sqrt(weight_cache_corrected) + self.epsilon)\n",
    "        layer.biases += -self.current_learning_rate * bias_momentums_corrected / \\\n",
    "                         (np.sqrt(bias_cache_corrected) + self.epsilon)\n",
    "\n",
    "    # Call once after any parameter updates\n",
    "    def post_update_params(self):\n",
    "        self.iterations += 1"
   ],
   "metadata": {
    "collapsed": false
   }
  },
  {
   "cell_type": "code",
   "execution_count": 36,
   "outputs": [],
   "source": [
    "class Loss:\n",
    "    def regularization_loss(self):\n",
    "        regularization_loss = 0\n",
    "        # Calculate regularization loss\n",
    "        # iterate all trainable layers\n",
    "        for layer in self.trainable_layers:\n",
    "            # L1 regularization - weights\n",
    "            # calculate only when factor greater than 0\n",
    "            if layer.weight_regularizer_l1 > 0:\n",
    "                regularization_loss += layer.weight_regularizer_l1 * np.sum(np.abs(layer.weights))\n",
    "            # L2 regularization - weights\n",
    "            if layer.weight_regularizer_l2 > 0:\n",
    "                regularization_loss += layer.weight_regularizer_l2 * np.sum(layer.weights * layer.weights)\n",
    "            # L1 regularization - biases\n",
    "            # calculate only when factor greater than 0\n",
    "            if layer.bias_regularizer_l1 > 0:\n",
    "                regularization_loss += layer.bias_regularizer_l1 * np.sum(np.abs(layer.biases))\n",
    "            # L2 regularization - biases\n",
    "            if layer.bias_regularizer_l2 > 0:\n",
    "                regularization_loss += layer.bias_regularizer_l2 * np.sum(layer.biases * layer.biases)\n",
    "        return regularization_loss\n",
    "\n",
    "    def remember_trainable_layers(self, trainable_layers):\n",
    "        self.trainable_layers = trainable_layers\n",
    "\n",
    "    # Calculates the data and regularization losses\n",
    "    # given model output and ground truth values\n",
    "    def calculate(self, output, y, *, include_regularization=False):\n",
    "        # Calculate sample losses\n",
    "        sample_losses = self.forward(output, y)\n",
    "        # Calculate mean loss\n",
    "        data_loss = np.mean(sample_losses)\n",
    "        # Add accumulated sum of losses and sample count\n",
    "        self.accumulated_sum += np.sum(sample_losses)\n",
    "        self.accumulated_count += len(sample_losses)\n",
    "        # If just data loss - return it\n",
    "        if not include_regularization:\n",
    "            return data_loss\n",
    "        # Return the data and regularization losses\n",
    "        return data_loss, self.regularization_loss()\n",
    "\n",
    "    # Calculates accumulated loss\n",
    "    def calculate_accumulated(self, *, include_regularization=False):\n",
    "        # Calculate mean loss\n",
    "        data_loss = self.accumulated_sum / self.accumulated_count\n",
    "        # If just data loss - return it\n",
    "        if not include_regularization:\n",
    "            return data_loss\n",
    "        # Return the data and regularization losses\n",
    "        return data_loss, self.regularization_loss()\n",
    "\n",
    "    # Reset variables for accumulated loss\n",
    "    def new_pass(self):\n",
    "        self.accumulated_sum = 0\n",
    "        self.accumulated_count = 0\n"
   ],
   "metadata": {
    "collapsed": false
   }
  },
  {
   "cell_type": "code",
   "execution_count": 37,
   "outputs": [],
   "source": [
    "class Loss_CategoricalCrossentropy(Loss):\n",
    "    def forward(self, y_pred, y_true):\n",
    "        samples = len(y_pred)\n",
    "        # Clip data to prevent division by 0\n",
    "        # Clip both sides to not drag mean towards any value\n",
    "        y_pred_clipped = np.clip(y_pred, 1e-7, 1 - 1e-7)\n",
    "        # Probabilities for target values -\n",
    "        # only if categorical labels\n",
    "        if len(y_true.shape) == 1:\n",
    "            correct_confidences = y_pred_clipped[range(samples),y_true]\n",
    "        # Mask values - only for one-hot encoded labels\n",
    "        elif len(y_true.shape) == 2:\n",
    "            correct_confidences = np.sum(y_pred_clipped * y_true,axis=1)\n",
    "        negative_log_likelihoods = -np.log(correct_confidences)\n",
    "        return negative_log_likelihoods\n",
    "\n",
    "    def backward(self, dvalues, y_true):\n",
    "        samples = len(dvalues)\n",
    "        # Number of labels in every sample\n",
    "        # We'll use the first sample to count them\n",
    "        labels = len(dvalues[0])\n",
    "        # If labels are sparse, turn them into one-hot vector\n",
    "        if len(y_true.shape) == 1:\n",
    "            y_true = np.eye(labels)[y_true]\n",
    "        # Calculate gradient\n",
    "        self.dinputs = -y_true / dvalues\n",
    "        # Normalize gradient\n",
    "        self.dinputs = self.dinputs / samples"
   ],
   "metadata": {
    "collapsed": false
   }
  },
  {
   "cell_type": "code",
   "execution_count": 38,
   "outputs": [],
   "source": [
    "class Activation_Softmax_Loss_CategoricalCrossentropy():\n",
    "    def backward(self, dvalues, y_true):\n",
    "        samples = len(dvalues)\n",
    "        # If labels are one-hot encoded,\n",
    "        # turn them into discrete values\n",
    "        if len(y_true.shape) == 2:\n",
    "            y_true = np.argmax(y_true, axis=1)\n",
    "        # Copy so we can safely modify\n",
    "        self.dinputs = dvalues.copy()\n",
    "        # Calculate gradient\n",
    "        self.dinputs[range(samples), y_true] -= 1\n",
    "        # Normalize gradient\n",
    "        self.dinputs = self.dinputs / samples"
   ],
   "metadata": {
    "collapsed": false
   }
  },
  {
   "cell_type": "code",
   "execution_count": 39,
   "outputs": [],
   "source": [
    "class Loss_BinaryCrossentropy(Loss):\n",
    "    def forward(self, y_pred, y_true):\n",
    "        # Clip data to prevent division by 0\n",
    "        # Clip both sides to not drag mean towards any value\n",
    "        y_pred_clipped = np.clip(y_pred, 1e-7, 1 - 1e-7)\n",
    "        # Calculate sample-wise loss\n",
    "        sample_losses = -(y_true * np.log(y_pred_clipped) +(1 - y_true) * np.log(1 - y_pred_clipped))\n",
    "        sample_losses = np.mean(sample_losses, axis=-1)\n",
    "        return sample_losses\n",
    "\n",
    "    def backward(self, dvalues, y_true):\n",
    "        # Number of samples\n",
    "        samples = len(dvalues)\n",
    "        # Number of outputs in every sample\n",
    "        # We'll use the first sample to count them\n",
    "        outputs = len(dvalues[0])\n",
    "        # Clip data to prevent division by 0\n",
    "        # Clip both sides to not drag mean towards any value\n",
    "        clipped_dvalues = np.clip(dvalues, 1e-7, 1 - 1e-7)\n",
    "        # Calculate gradient\n",
    "        self.dinputs = -(y_true / clipped_dvalues - (1 - y_true) / (1 - clipped_dvalues)) / outputs\n",
    "        # Normalize gradient\n",
    "        self.dinputs = self.dinputs / samples"
   ],
   "metadata": {
    "collapsed": false
   }
  },
  {
   "cell_type": "code",
   "execution_count": 40,
   "outputs": [],
   "source": [
    "class Loss_MeanSquaredError(Loss):\n",
    "    def forward(self, y_pred, y_true):\n",
    "        sample_losses = np.mean((y_true - y_pred)**2, axis=-1)\n",
    "        return sample_losses\n",
    "\n",
    "    def backward(self, dvalues, y_true):\n",
    "        samples = len(dvalues)\n",
    "        outputs = len(dvalues[0])\n",
    "        self.dinputs = -2 * (y_true - dvalues) / outputs\n",
    "        self.dinputs = self.dinputs / samples"
   ],
   "metadata": {
    "collapsed": false
   }
  },
  {
   "cell_type": "code",
   "execution_count": 41,
   "outputs": [],
   "source": [
    "class Loss_MeanAbsoluteError(Loss):\n",
    "    def forward(self, y_pred, y_true):\n",
    "        sample_losses = np.mean(np.abs(y_true - y_pred), axis=-1)\n",
    "        return sample_losses\n",
    "\n",
    "    def backward(self, dvalues, y_true):\n",
    "        samples = len(dvalues)\n",
    "        # Number of outputs in every sample\n",
    "        # We'll use the first sample to count them\n",
    "        outputs = len(dvalues[0])\n",
    "        self.dinputs = np.sign(y_true - dvalues) / outputs\n",
    "        self.dinputs = self.dinputs / samples"
   ],
   "metadata": {
    "collapsed": false
   }
  },
  {
   "cell_type": "code",
   "execution_count": 42,
   "outputs": [],
   "source": [
    "class Accuracy:\n",
    "    # Calculates an accuracy\n",
    "    # given predictions and ground truth values\n",
    "    def calculate(self, predictions, y):\n",
    "        # Get comparison results\n",
    "        comparisons = self.compare(predictions, y)\n",
    "        # Calculate an accuracy\n",
    "        accuracy = np.mean(comparisons)\n",
    "        # Add accumulated sum of matching values and sample count\n",
    "        self.accumulated_sum += np.sum(comparisons)\n",
    "        self.accumulated_count += len(comparisons)\n",
    "        # Return accuracy\n",
    "        return accuracy\n",
    "\n",
    "    # Calculates accumulated accuracy\n",
    "    def calculate_accumulated(self):\n",
    "        # Calculate an accuracy\n",
    "        accuracy = self.accumulated_sum / self.accumulated_count\n",
    "        # Return the data and regularization losses\n",
    "        return accuracy\n",
    "\n",
    "    # Reset variables for accumulated accuracy\n",
    "    def new_pass(self):\n",
    "        self.accumulated_sum = 0\n",
    "        self.accumulated_count = 0"
   ],
   "metadata": {
    "collapsed": false
   }
  },
  {
   "cell_type": "code",
   "execution_count": 43,
   "outputs": [],
   "source": [
    "# Accuracy calculation for classification model\n",
    "class Accuracy_Categorical(Accuracy):\n",
    "    def __init__(self, *, binary=False):\n",
    "        # Binary mode?\n",
    "        self.binary = binary\n",
    "\n",
    "    # No initialization is needed\n",
    "    def init(self, y):\n",
    "        pass\n",
    "    # Compares predictions to the ground truth values\n",
    "    def compare(self, predictions, y):\n",
    "        if not self.binary and len(y.shape) == 2:\n",
    "            y = np.argmax(y, axis=1)\n",
    "        return predictions == y"
   ],
   "metadata": {
    "collapsed": false
   }
  },
  {
   "cell_type": "code",
   "execution_count": 44,
   "outputs": [],
   "source": [
    "class Accuracy_Regression(Accuracy):\n",
    "    def __init__(self):\n",
    "        self.precision = None\n",
    "\n",
    "    # Calculates precision value\n",
    "    # based on passed-in ground truth values\n",
    "    def init(self, y, reinit=False):\n",
    "        if self.precision is None or reinit:\n",
    "            self.precision = np.std(y) / 250\n",
    "\n",
    "    # Compares predictions to the ground truth values\n",
    "    def compare(self, predictions, y):\n",
    "        return np.absolute(predictions - y) < self.precision"
   ],
   "metadata": {
    "collapsed": false
   }
  },
  {
   "cell_type": "code",
   "execution_count": 45,
   "outputs": [],
   "source": [
    "class Model:\n",
    "    def __init__(self):\n",
    "        self.layers = []\n",
    "        self.softmax_classifier_output = None\n",
    "        #used for plotting accuracy graph\n",
    "        self.accuracy_history = []\n",
    "\n",
    "    def add(self, layer):\n",
    "        self.layers.append(layer)\n",
    "\n",
    "    def set(self, *, loss=None, optimizer=None, accuracy=None):\n",
    "        if loss is not None:\n",
    "            self.loss = loss\n",
    "        if optimizer is not None:\n",
    "            self.optimizer = optimizer\n",
    "        if accuracy is not None:\n",
    "            self.accuracy = accuracy\n",
    "\n",
    "    def finalize(self):\n",
    "        # Create and set the input layer\n",
    "        self.input_layer = Layer_Input()\n",
    "\n",
    "        # Count all the objects\n",
    "        layer_count = len(self.layers)\n",
    "\n",
    "        # Initialize a list containing trainable layers:\n",
    "        self.trainable_layers = []\n",
    "\n",
    "        # Iterate the objects\n",
    "        for i in range(layer_count):\n",
    "\n",
    "            # If it's the first layer,\n",
    "            # the previous layer object is the input layer\n",
    "            if i == 0:\n",
    "                self.layers[i].prev = self.input_layer\n",
    "                self.layers[i].next = self.layers[i+1]\n",
    "\n",
    "            # All layers except for the first and the last\n",
    "            elif i < layer_count - 1:\n",
    "                self.layers[i].prev = self.layers[i-1]\n",
    "                self.layers[i].next = self.layers[i+1]\n",
    "\n",
    "            # The last layer - the next object is the loss\n",
    "            # Also let's save aside the reference to the last object\n",
    "            # whose output is the model's output\n",
    "            else:\n",
    "                self.layers[i].prev = self.layers[i-1]\n",
    "                self.layers[i].next = self.loss\n",
    "                self.output_layer_activation = self.layers[i]\n",
    "\n",
    "\n",
    "            # If layer contains an attribute called \"weights\",\n",
    "            # it's a trainable layer -\n",
    "            # add it to the list of trainable layers\n",
    "            # We don't need to check for biases -\n",
    "            # checking for weights is enough\n",
    "            if hasattr(self.layers[i], 'weights'):\n",
    "                self.trainable_layers.append(self.layers[i])\n",
    "\n",
    "        # Update loss object with trainable layers\n",
    "        if self.loss is not None:\n",
    "            self.loss.remember_trainable_layers(self.trainable_layers)\n",
    "\n",
    "        # If output activation is Softmax and\n",
    "        # loss function is Categorical Cross-Entropy\n",
    "        # create an object of combined activation\n",
    "        # and loss function containing\n",
    "        # faster gradient calculation\n",
    "        if isinstance(self.layers[-1], Activation_Softmax) and \\\n",
    "           isinstance(self.loss, Loss_CategoricalCrossentropy):\n",
    "            # Create an object of combined activation\n",
    "            # and loss functions\n",
    "            self.softmax_classifier_output = \\\n",
    "                Activation_Softmax_Loss_CategoricalCrossentropy()\n",
    "\n",
    "    # Train the model\n",
    "    def train(self, X, y, *, epochs=1, batch_size=None,\n",
    "              print_every=1, validation_data=None):\n",
    "\n",
    "        # Initialize accuracy object\n",
    "        self.accuracy.init(y)\n",
    "\n",
    "        # Default value if batch size is not being set\n",
    "        train_steps = 1\n",
    "\n",
    "        # Calculate number of steps\n",
    "        if batch_size is not None:\n",
    "            train_steps = len(X) // batch_size\n",
    "            # Dividing rounds down. If there are some remaining\n",
    "            # data but not a full batch, this won't include it\n",
    "            # Add `1` to include this not full batch\n",
    "            if train_steps * batch_size < len(X):\n",
    "                train_steps += 1\n",
    "\n",
    "        # Main training loop\n",
    "        for epoch in range(1, epochs+1):\n",
    "\n",
    "            # Print epoch number\n",
    "            print(f'epoch: {epoch}')\n",
    "\n",
    "            # Reset accumulated values in loss and accuracy objects\n",
    "            self.loss.new_pass()\n",
    "            self.accuracy.new_pass()\n",
    "\n",
    "            # Iterate over steps\n",
    "            for step in range(train_steps):\n",
    "\n",
    "                # If batch size is not set -\n",
    "                # train using one step and full dataset\n",
    "                if batch_size is None:\n",
    "                    batch_X = X\n",
    "                    batch_y = y\n",
    "\n",
    "                # Otherwise slice a batch\n",
    "                else:\n",
    "                    batch_X = X[step*batch_size:(step+1)*batch_size]\n",
    "                    batch_y = y[step*batch_size:(step+1)*batch_size]\n",
    "\n",
    "                # Perform the forward pass\n",
    "                output = self.forward(batch_X, training=True)\n",
    "\n",
    "                # Calculate loss\n",
    "                data_loss, regularization_loss = self.loss.calculate(output, batch_y, include_regularization=True)\n",
    "                loss = data_loss + regularization_loss\n",
    "\n",
    "                # Get predictions and calculate an accuracy\n",
    "                predictions = self.output_layer_activation.predictions(output)\n",
    "                accuracy = self.accuracy.calculate(predictions, batch_y)\n",
    "                self.accuracy_history.append(accuracy)  # Add accuracy to history\n",
    "\n",
    "\n",
    "                # Perform backward pass\n",
    "                self.backward(output, batch_y)\n",
    "\n",
    "                # Optimize (update parameters)\n",
    "                self.optimizer.pre_update_params()\n",
    "                for layer in self.trainable_layers:\n",
    "                    self.optimizer.update_params(layer)\n",
    "                self.optimizer.post_update_params()\n",
    "\n",
    "\n",
    "                # Print a summary\n",
    "                if not step % print_every or step == train_steps - 1:\n",
    "                    print(f'step: {step}, ' +\n",
    "                          f'acc: {accuracy:.3f}, ' +\n",
    "                          f'loss: {loss:.3f} (' +\n",
    "                          f'data_loss: {data_loss:.3f}, ' +\n",
    "                          f'reg_loss: {regularization_loss:.3f}), ' +\n",
    "                          f'lr: {self.optimizer.current_learning_rate}')\n",
    "\n",
    "            # Get and print epoch loss and accuracy\n",
    "            epoch_data_loss, epoch_regularization_loss = \\\n",
    "                self.loss.calculate_accumulated(include_regularization=True)\n",
    "            epoch_loss = epoch_data_loss + epoch_regularization_loss\n",
    "            epoch_accuracy = self.accuracy.calculate_accumulated()\n",
    "\n",
    "            print(f'training, ' +\n",
    "                  f'acc: {epoch_accuracy:.3f}, ' +\n",
    "                  f'loss: {epoch_loss:.3f} (' +\n",
    "                  f'data_loss: {epoch_data_loss:.3f}, ' +\n",
    "                  f'reg_loss: {epoch_regularization_loss:.3f}), ' +\n",
    "                  f'lr: {self.optimizer.current_learning_rate}')\n",
    "\n",
    "\n",
    "            # If there is the validation data\n",
    "            if validation_data is not None:\n",
    "\n",
    "                # Evaluate the model:\n",
    "                self.evaluate(*validation_data, batch_size=batch_size)\n",
    "\n",
    "        self.plot_accuracy()\n",
    "\n",
    "    # Evaluates the model using passed-in dataset\n",
    "    def evaluate(self, X_val, y_val, *, batch_size=None):\n",
    "\n",
    "        # Default value if batch size is not being set\n",
    "        validation_steps = 1\n",
    "\n",
    "        # Calculate number of steps\n",
    "        if batch_size is not None:\n",
    "            validation_steps = len(X_val) // batch_size\n",
    "            # Dividing rounds down. If there are some remaining\n",
    "            # data but not a full batch, this won't include it\n",
    "            # Add `1` to include this not full batch\n",
    "            if validation_steps * batch_size < len(X_val):\n",
    "                validation_steps += 1\n",
    "\n",
    "        # Reset accumulated values in loss\n",
    "        # and accuracy objects\n",
    "        self.loss.new_pass()\n",
    "        self.accuracy.new_pass()\n",
    "\n",
    "\n",
    "        # Iterate over steps\n",
    "        for step in range(validation_steps):\n",
    "\n",
    "            # If batch size is not set -\n",
    "            # train using one step and full dataset\n",
    "            if batch_size is None:\n",
    "                batch_X = X_val\n",
    "                batch_y = y_val\n",
    "\n",
    "            # Otherwise slice a batch\n",
    "            else:\n",
    "                batch_X = X_val[\n",
    "                    step*batch_size:(step+1)*batch_size\n",
    "                ]\n",
    "                batch_y = y_val[\n",
    "                    step*batch_size:(step+1)*batch_size\n",
    "                ]\n",
    "\n",
    "            # Perform the forward pass\n",
    "            output = self.forward(batch_X, training=False)\n",
    "\n",
    "            # Calculate the loss\n",
    "            self.loss.calculate(output, batch_y)\n",
    "\n",
    "            # Get predictions and calculate an accuracy\n",
    "            predictions = self.output_layer_activation.predictions(\n",
    "                              output)\n",
    "            self.accuracy.calculate(predictions, batch_y)\n",
    "\n",
    "        # Get and print validation loss and accuracy\n",
    "        validation_loss = self.loss.calculate_accumulated()\n",
    "        validation_accuracy = self.accuracy.calculate_accumulated()\n",
    "\n",
    "        # Print a summary\n",
    "        print(f'validation, ' +\n",
    "              f'acc: {validation_accuracy:.3f}, ' +\n",
    "              f'loss: {validation_loss:.3f}')\n",
    "\n",
    "    # Predicts on the samples\n",
    "    def predict(self, X, *, batch_size=None):\n",
    "\n",
    "        # Default value if batch size is not being set\n",
    "        prediction_steps = 1\n",
    "\n",
    "        # Calculate number of steps\n",
    "        if batch_size is not None:\n",
    "            prediction_steps = len(X) // batch_size\n",
    "\n",
    "            # Dividing rounds down. If there are some remaining\n",
    "            # data but not a full batch, this won't include it\n",
    "            # Add `1` to include this not full batch\n",
    "            if prediction_steps * batch_size < len(X):\n",
    "                prediction_steps += 1\n",
    "\n",
    "        # Model outputs\n",
    "        output = []\n",
    "\n",
    "        # Iterate over steps\n",
    "        for step in range(prediction_steps):\n",
    "\n",
    "            # If batch size is not set -\n",
    "            # train using one step and full dataset\n",
    "            if batch_size is None:\n",
    "                batch_X = X\n",
    "\n",
    "            # Otherwise slice a batch\n",
    "            else:\n",
    "                batch_X = X[step*batch_size:(step+1)*batch_size]\n",
    "\n",
    "            # Perform the forward pass\n",
    "            batch_output = self.forward(batch_X, training=False)\n",
    "\n",
    "            # Append batch prediction to the list of predictions\n",
    "            output.append(batch_output)\n",
    "\n",
    "        # Stack and return results\n",
    "        return np.vstack(output)\n",
    "\n",
    "    # Performs forward pass\n",
    "    def forward(self, X, training):\n",
    "\n",
    "        # Call forward method on the input layer\n",
    "        # this will set the output property that\n",
    "        # the first layer in \"prev\" object is expecting\n",
    "        self.input_layer.forward(X, training)\n",
    "\n",
    "        # Call forward method of every object in a chain\n",
    "        # Pass output of the previous object as a parameter\n",
    "        for layer in self.layers:\n",
    "            layer.forward(layer.prev.output, training)\n",
    "\n",
    "        # \"layer\" is now the last object from the list,\n",
    "        # return its output\n",
    "        return layer.output\n",
    "\n",
    "    def backward(self, output, y):\n",
    "        # If softmax classifier\n",
    "        if self.softmax_classifier_output is not None:\n",
    "            # First call backward method\n",
    "            # on the combined activation/loss\n",
    "            # this will set dinputs property\n",
    "            self.softmax_classifier_output.backward(output, y)\n",
    "\n",
    "            # Since we'll not call backward method of the last layer\n",
    "            # which is Softmax activation\n",
    "            # as we used combined activation/loss\n",
    "            # object, let's set dinputs in this object\n",
    "            self.layers[-1].dinputs = \\\n",
    "                self.softmax_classifier_output.dinputs\n",
    "\n",
    "            # Call backward method going through\n",
    "            # all the objects but last\n",
    "            # in reversed order passing dinputs as a parameter\n",
    "            for layer in reversed(self.layers[:-1]):\n",
    "                layer.backward(layer.next.dinputs)\n",
    "\n",
    "            return\n",
    "\n",
    "        # First call backward method on the loss\n",
    "        # this will set dinputs property that the last\n",
    "        # layer will try to access shortly\n",
    "        self.loss.backward(output, y)\n",
    "\n",
    "        # Call backward method going through all the objects\n",
    "        # in reversed order passing dinputs as a parameter\n",
    "        for layer in reversed(self.layers):\n",
    "            layer.backward(layer.next.dinputs)\n",
    "\n",
    "    # Retrieves and returns parameters of trainable layers\n",
    "    def get_parameters(self):\n",
    "        # Create a list for parameters\n",
    "        parameters = []\n",
    "        # Iterable trainable layers and get their parameters\n",
    "        for layer in self.trainable_layers:\n",
    "            parameters.append(layer.get_parameters())\n",
    "        # Return a list\n",
    "        return parameters\n",
    "\n",
    "\n",
    "    # Updates the model with new parameters\n",
    "    def set_parameters(self, parameters):\n",
    "\n",
    "        # Iterate over the parameters and layers\n",
    "        # and update each layers with each set of the parameters\n",
    "        for parameter_set, layer in zip(parameters,\n",
    "                                        self.trainable_layers):\n",
    "            layer.set_parameters(*parameter_set)\n",
    "\n",
    "    # Plot accuracy graph\n",
    "    def plot_accuracy(self):\n",
    "        epochs = len(self.accuracy_history)\n",
    "        plt.plot(range(1, epochs+1), self.accuracy_history)\n",
    "        plt.xlabel('Epoch')\n",
    "        plt.ylabel('Accuracy')\n",
    "        plt.title('Training Accuracy')\n",
    "        plt.show()"
   ],
   "metadata": {
    "collapsed": false
   }
  },
  {
   "cell_type": "code",
   "execution_count": 46,
   "outputs": [],
   "source": [
    "dataset_path = os.getcwd()\n",
    "dataset_path += \"\\\\A_Z Handwritten Data.csv\"\n",
    "dataset_path_path = os.path.abspath(dataset_path)\n",
    "\n",
    "df = pd.read_csv(dataset_path)"
   ],
   "metadata": {
    "collapsed": false
   }
  },
  {
   "cell_type": "code",
   "execution_count": 47,
   "outputs": [],
   "source": [
    "class_column = df['0']\n",
    "class_column_letters = class_column.replace([0,1,2,3,4,5,6,7,8,9,10,11,12,13,14,15,16,17,18,19,20,21,22,23,24,25], ['A', 'B', 'C', 'D', 'E', 'F', 'G', 'H', 'I', 'J', 'K', 'L', 'M', 'N', 'O', 'P', 'Q', 'R', 'S', 'T', 'U', 'V', 'W', 'X', 'Y', 'Z'])\n",
    "del df['0']"
   ],
   "metadata": {
    "collapsed": false
   }
  },
  {
   "cell_type": "code",
   "execution_count": 48,
   "outputs": [
    {
     "data": {
      "text/plain": "<Figure size 1000x1000 with 10 Axes>",
      "image/png": "[encoded data removed]"
     },
     "metadata": {},
     "output_type": "display_data"
    }
   ],
   "source": [
    "X_data = np.array(df)\n",
    "X_data = X_data.reshape(-1,28,28,1)\n",
    "\n",
    "f, ax = plt.subplots(2,5)\n",
    "f.set_size_inches(10,10)\n",
    "k = 0\n",
    "for i in range(2):\n",
    "    for j in range(5):\n",
    "        ax[i,j].imshow(X_data[k].reshape(28,28), cmap='gray')\n",
    "        k += 1\n",
    "    plt.tight_layout()"
   ],
   "metadata": {
    "collapsed": false
   }
  },
  {
   "cell_type": "code",
   "execution_count": 49,
   "outputs": [
    {
     "data": {
      "text/plain": "<Figure size 2400x1600 with 1 Axes>",
      "image/png": "[encoded data removed]"
     },
     "metadata": {},
     "output_type": "display_data"
    }
   ],
   "source": [
    "alphabet = ['O', 'S', 'U', 'C' , 'T' , 'P' , 'N', 'A', 'M', 'L', 'R', 'E', 'Y', 'W', 'D', 'B', 'J', 'H', 'X', 'Z', 'Q', 'G', 'K', 'V', 'F', 'I']\n",
    "counts = class_column_letters.value_counts()\n",
    "\n",
    "fig, ax = plt.subplots(1, 1, figsize=(24, 16))\n",
    "ax.barh(alphabet, counts, color='green',)\n",
    "\n",
    "plt.xlabel('Count')\n",
    "plt.ylabel('Letter')\n",
    "plt.yticks(fontsize=14)\n",
    "plt.title('Occurence of each letter in the dataset.', fontsize=24)\n",
    "plt.grid()\n",
    "plt.show()"
   ],
   "metadata": {
    "collapsed": false
   }
  },
  {
   "cell_type": "code",
   "execution_count": 50,
   "outputs": [],
   "source": [
    "X = df\n",
    "y = class_column"
   ],
   "metadata": {
    "collapsed": false
   }
  },
  {
   "cell_type": "code",
   "execution_count": 51,
   "outputs": [],
   "source": [
    "del df"
   ],
   "metadata": {
    "collapsed": false
   }
  },
  {
   "cell_type": "code",
   "execution_count": 52,
   "outputs": [],
   "source": [
    "X, X_test, y, y_test = train_test_split(X, y, test_size=0.35, random_state=40)"
   ],
   "metadata": {
    "collapsed": false
   }
  },
  {
   "cell_type": "code",
   "execution_count": 53,
   "outputs": [],
   "source": [
    "X = (np.array(X).reshape(X.shape[0], -1).astype(np.float32) - 127.5) / 127.5\n",
    "X_test = (np.array(X_test).reshape(X_test.shape[0], -1).astype(np.float32) - 127.5) / 127.5"
   ],
   "metadata": {
    "collapsed": false
   }
  },
  {
   "cell_type": "markdown",
   "source": [
    "## TRAINING THE MODEL"
   ],
   "metadata": {
    "collapsed": false
   }
  },
  {
   "cell_type": "code",
   "execution_count": 54,
   "outputs": [
    {
     "name": "stdout",
     "output_type": "stream",
     "text": [
      "epoch: 1\n",
      "step: 0, acc: 0.062, loss: 3.258 (data_loss: 3.258, reg_loss: 0.000), lr: 0.001\n"
     ]
    },
    {
     "name": "stderr",
     "output_type": "stream",
     "text": [
      "C:\\Users\\mirza\\AppData\\Local\\Temp\\ipykernel_8832\\1584822519.py:117: FutureWarning: The behavior of `series[i:j]` with an integer-dtype index is deprecated. In a future version, this will be treated as *label-based* indexing, consistent with e.g. `series[i]` lookups. To retain the old behavior, use `series.iloc[i:j]`. To get the future behavior, use `series.loc[i:j]`.\n",
      "  batch_y = y[step*batch_size:(step+1)*batch_size]\n"
     ]
    },
    {
     "name": "stdout",
     "output_type": "stream",
     "text": [
      "step: 300, acc: 0.680, loss: 1.090 (data_loss: 1.090, reg_loss: 0.000), lr: 0.001\n",
      "step: 600, acc: 0.898, loss: 0.430 (data_loss: 0.430, reg_loss: 0.000), lr: 0.001\n",
      "step: 900, acc: 0.938, loss: 0.358 (data_loss: 0.358, reg_loss: 0.000), lr: 0.001\n",
      "step: 1200, acc: 0.898, loss: 0.334 (data_loss: 0.334, reg_loss: 0.000), lr: 0.001\n",
      "step: 1500, acc: 0.914, loss: 0.310 (data_loss: 0.310, reg_loss: 0.000), lr: 0.001\n",
      "step: 1800, acc: 0.945, loss: 0.192 (data_loss: 0.192, reg_loss: 0.000), lr: 0.001\n",
      "step: 1891, acc: 0.955, loss: 0.218 (data_loss: 0.218, reg_loss: 0.000), lr: 0.001\n",
      "training, acc: 0.834, loss: 0.574 (data_loss: 0.574, reg_loss: 0.000), lr: 0.001\n"
     ]
    },
    {
     "name": "stderr",
     "output_type": "stream",
     "text": [
      "C:\\Users\\mirza\\AppData\\Local\\Temp\\ipykernel_8832\\1584822519.py:208: FutureWarning: The behavior of `series[i:j]` with an integer-dtype index is deprecated. In a future version, this will be treated as *label-based* indexing, consistent with e.g. `series[i]` lookups. To retain the old behavior, use `series.iloc[i:j]`. To get the future behavior, use `series.loc[i:j]`.\n",
      "  batch_y = y_val[\n"
     ]
    },
    {
     "name": "stdout",
     "output_type": "stream",
     "text": [
      "validation, acc: 0.923, loss: 0.272\n",
      "epoch: 2\n",
      "step: 0, acc: 0.930, loss: 0.326 (data_loss: 0.326, reg_loss: 0.000), lr: 0.001\n",
      "step: 300, acc: 0.836, loss: 0.396 (data_loss: 0.396, reg_loss: 0.000), lr: 0.001\n",
      "step: 600, acc: 0.961, loss: 0.212 (data_loss: 0.212, reg_loss: 0.000), lr: 0.001\n",
      "step: 900, acc: 0.969, loss: 0.192 (data_loss: 0.192, reg_loss: 0.000), lr: 0.001\n",
      "step: 1200, acc: 0.930, loss: 0.203 (data_loss: 0.203, reg_loss: 0.000), lr: 0.001\n",
      "step: 1500, acc: 0.961, loss: 0.164 (data_loss: 0.164, reg_loss: 0.000), lr: 0.001\n",
      "step: 1800, acc: 0.977, loss: 0.135 (data_loss: 0.135, reg_loss: 0.000), lr: 0.001\n",
      "step: 1891, acc: 0.955, loss: 0.176 (data_loss: 0.176, reg_loss: 0.000), lr: 0.001\n",
      "training, acc: 0.942, loss: 0.206 (data_loss: 0.206, reg_loss: 0.000), lr: 0.001\n",
      "validation, acc: 0.942, loss: 0.201\n"
     ]
    },
    {
     "data": {
      "text/plain": "<Figure size 640x480 with 1 Axes>",
      "image/png": "[encoded data removed]"
     },
     "metadata": {},
     "output_type": "display_data"
    }
   ],
   "source": [
    "model = Model()\n",
    "\n",
    "model.add(Layer_Dense(X.shape[1], 128))\n",
    "model.add(Activation_ReLU())\n",
    "model.add(Layer_Dense(128, 128))\n",
    "model.add(Activation_ReLU())\n",
    "model.add(Layer_Dense(128, 26))\n",
    "model.add(Activation_Softmax())\n",
    "\n",
    "# Set loss, optimizer and accuracy objects\n",
    "model.set(\n",
    "    loss=Loss_CategoricalCrossentropy(),\n",
    "    optimizer=Optimizer_Adam(),\n",
    "    accuracy=Accuracy_Categorical()\n",
    ")\n",
    "\n",
    "# Finalize the model\n",
    "model.finalize()\n",
    "\n",
    "# Train the model\n",
    "model.train(X, y, validation_data=(X_test, y_test), epochs=2, batch_size=128, print_every=300)\n"
   ],
   "metadata": {
    "collapsed": false
   }
  },
  {
   "cell_type": "code",
   "execution_count": 55,
   "outputs": [
    {
     "name": "stdout",
     "output_type": "stream",
     "text": [
      "validation, acc: 0.942, loss: 0.201\n"
     ]
    }
   ],
   "source": [
    "model.evaluate(X_test, y_test)"
   ],
   "metadata": {
    "collapsed": false
   }
  },
  {
   "cell_type": "code",
   "execution_count": 56,
   "outputs": [],
   "source": [
    "y_test_array = np.array(y_test)"
   ],
   "metadata": {
    "collapsed": false
   }
  },
  {
   "cell_type": "code",
   "execution_count": 57,
   "outputs": [
    {
     "name": "stdout",
     "output_type": "stream",
     "text": [
      "Prediction:  [ 1  0 14  0]\n",
      "Actual:      [ 1 13 14  0]\n"
     ]
    }
   ],
   "source": [
    "confidences = model.predict(X_test[:4])\n",
    "predictions = model.output_layer_activation.predictions(confidences)\n",
    "print(\"Prediction: \", predictions)\n",
    "print(\"Actual:     \", y_test_array[:4])"
   ],
   "metadata": {
    "collapsed": false
   }
  },
  {
   "cell_type": "code",
   "execution_count": 58,
   "outputs": [
    {
     "data": {
      "text/plain": "<Figure size 500x600 with 4 Axes>",
      "image/png": "[encoded data removed]"
     },
     "metadata": {},
     "output_type": "display_data"
    }
   ],
   "source": [
    "fig, axs = plt.subplots(2, 2, figsize=(5, 6))\n",
    "\n",
    "# Loop over some random test images and print the predicted letter and confidence rate\n",
    "for i in range(4):\n",
    "    # Get the predicted class for the i-th test image\n",
    "    predicted_class = predictions[i]\n",
    "\n",
    "    # Get the predicted letter from the class index\n",
    "    predicted_letter = chr(ord('A') + predicted_class)\n",
    "\n",
    "    # Get the actual class for the i-th test image\n",
    "    actual_class = y_test_array[i]\n",
    "\n",
    "    # Get the actual letter from the class index\n",
    "    actual_letter = chr(ord('A') + actual_class)\n",
    "\n",
    "    # Get the subplot coordinates for the i-th image\n",
    "    row = i // 2\n",
    "    col = i % 2\n",
    "\n",
    "    # Display the i-th test image in the appropriate subplot\n",
    "    axs[row, col].imshow(X_test[i].reshape(28, 28), cmap='gray')\n",
    "    axs[row, col].set_title(f\"Predicted: {predicted_letter}\\nActual: {actual_letter}\\n\")\n",
    "    axs[row, col].axis('off')\n",
    "\n",
    "# Show the figure\n",
    "plt.show()"
   ],
   "metadata": {
    "collapsed": false
   }
  },
  {
   "cell_type": "markdown",
   "source": [
    "#### PREVIOUS MODEL WITH DIFFERENT LEARNING RATE"
   ],
   "metadata": {
    "collapsed": false
   }
  },
  {
   "cell_type": "code",
   "execution_count": 59,
   "outputs": [
    {
     "name": "stdout",
     "output_type": "stream",
     "text": [
      "epoch: 1\n",
      "step: 0, acc: 0.031, loss: 3.258 (data_loss: 3.258, reg_loss: 0.000), lr: 0.2\n"
     ]
    },
    {
     "name": "stderr",
     "output_type": "stream",
     "text": [
      "C:\\Users\\mirza\\AppData\\Local\\Temp\\ipykernel_8832\\1584822519.py:117: FutureWarning: The behavior of `series[i:j]` with an integer-dtype index is deprecated. In a future version, this will be treated as *label-based* indexing, consistent with e.g. `series[i]` lookups. To retain the old behavior, use `series.iloc[i:j]`. To get the future behavior, use `series.loc[i:j]`.\n",
      "  batch_y = y[step*batch_size:(step+1)*batch_size]\n"
     ]
    },
    {
     "name": "stdout",
     "output_type": "stream",
     "text": [
      "step: 300, acc: 0.188, loss: 2.942 (data_loss: 2.942, reg_loss: 0.000), lr: 0.2\n",
      "step: 600, acc: 0.156, loss: 3.022 (data_loss: 3.022, reg_loss: 0.000), lr: 0.2\n",
      "step: 900, acc: 0.227, loss: 2.827 (data_loss: 2.827, reg_loss: 0.000), lr: 0.2\n",
      "step: 1200, acc: 0.148, loss: 2.901 (data_loss: 2.901, reg_loss: 0.000), lr: 0.2\n",
      "step: 1500, acc: 0.109, loss: 3.043 (data_loss: 3.043, reg_loss: 0.000), lr: 0.2\n",
      "step: 1800, acc: 0.086, loss: 2.999 (data_loss: 2.999, reg_loss: 0.000), lr: 0.2\n",
      "step: 1891, acc: 0.159, loss: 2.860 (data_loss: 2.860, reg_loss: 0.000), lr: 0.2\n",
      "training, acc: 0.149, loss: 2.974 (data_loss: 2.974, reg_loss: 0.000), lr: 0.2\n"
     ]
    },
    {
     "name": "stderr",
     "output_type": "stream",
     "text": [
      "C:\\Users\\mirza\\AppData\\Local\\Temp\\ipykernel_8832\\1584822519.py:208: FutureWarning: The behavior of `series[i:j]` with an integer-dtype index is deprecated. In a future version, this will be treated as *label-based* indexing, consistent with e.g. `series[i]` lookups. To retain the old behavior, use `series.iloc[i:j]`. To get the future behavior, use `series.loc[i:j]`.\n",
      "  batch_y = y_val[\n"
     ]
    },
    {
     "name": "stdout",
     "output_type": "stream",
     "text": [
      "validation, acc: 0.156, loss: 2.948\n",
      "epoch: 2\n",
      "step: 0, acc: 0.078, loss: 3.049 (data_loss: 3.049, reg_loss: 0.000), lr: 0.2\n",
      "step: 300, acc: 0.188, loss: 2.942 (data_loss: 2.942, reg_loss: 0.000), lr: 0.2\n",
      "step: 600, acc: 0.156, loss: 3.028 (data_loss: 3.028, reg_loss: 0.000), lr: 0.2\n",
      "step: 900, acc: 0.227, loss: 2.828 (data_loss: 2.828, reg_loss: 0.000), lr: 0.2\n",
      "step: 1200, acc: 0.148, loss: 2.902 (data_loss: 2.902, reg_loss: 0.000), lr: 0.2\n",
      "step: 1500, acc: 0.109, loss: 3.042 (data_loss: 3.042, reg_loss: 0.000), lr: 0.2\n",
      "step: 1800, acc: 0.086, loss: 2.997 (data_loss: 2.997, reg_loss: 0.000), lr: 0.2\n",
      "step: 1891, acc: 0.159, loss: 2.859 (data_loss: 2.859, reg_loss: 0.000), lr: 0.2\n",
      "training, acc: 0.148, loss: 2.948 (data_loss: 2.948, reg_loss: 0.000), lr: 0.2\n",
      "validation, acc: 0.156, loss: 2.948\n"
     ]
    },
    {
     "data": {
      "text/plain": "<Figure size 640x480 with 1 Axes>",
      "image/png": "[encoded data removed]"
     },
     "metadata": {},
     "output_type": "display_data"
    }
   ],
   "source": [
    "model1 = Model()\n",
    "\n",
    "model1.add(Layer_Dense(X.shape[1], 128))\n",
    "model1.add(Activation_ReLU())\n",
    "model1.add(Layer_Dense(128, 128))\n",
    "model1.add(Activation_ReLU())\n",
    "model1.add(Layer_Dense(128, 26))\n",
    "model1.add(Activation_Softmax())\n",
    "\n",
    "# Set loss, optimizer and accuracy objects\n",
    "model1.set(\n",
    "    loss=Loss_CategoricalCrossentropy(),\n",
    "    optimizer=Optimizer_Adam(learning_rate=0.2),\n",
    "    accuracy=Accuracy_Categorical()\n",
    ")\n",
    "\n",
    "# Finalize the model\n",
    "model1.finalize()\n",
    "\n",
    "# Train the model\n",
    "model1.train(X, y, validation_data=(X_test, y_test), epochs=2, batch_size=128, print_every=300)"
   ],
   "metadata": {
    "collapsed": false
   }
  },
  {
   "cell_type": "code",
   "execution_count": 60,
   "outputs": [
    {
     "name": "stdout",
     "output_type": "stream",
     "text": [
      "validation, acc: 0.156, loss: 2.948\n"
     ]
    }
   ],
   "source": [
    "model1.evaluate(X_test, y_test)"
   ],
   "metadata": {
    "collapsed": false
   }
  },
  {
   "cell_type": "code",
   "execution_count": 61,
   "outputs": [
    {
     "name": "stdout",
     "output_type": "stream",
     "text": [
      "Prediction:  [14 14 14 14]\n",
      "Actual:      [ 1 13 14  0]\n"
     ]
    }
   ],
   "source": [
    "confidences = model1.predict(X_test[:4])\n",
    "predictions = model1.output_layer_activation.predictions(confidences)\n",
    "print(\"Prediction: \", predictions)\n",
    "print(\"Actual:     \", y_test_array[:4])"
   ],
   "metadata": {
    "collapsed": false
   }
  },
  {
   "cell_type": "code",
   "execution_count": 62,
   "outputs": [
    {
     "name": "stdout",
     "output_type": "stream",
     "text": [
      "epoch: 1\n",
      "step: 0, acc: 0.016, loss: 3.258 (data_loss: 3.258, reg_loss: 0.000), lr: 0.001\n"
     ]
    },
    {
     "name": "stderr",
     "output_type": "stream",
     "text": [
      "C:\\Users\\mirza\\AppData\\Local\\Temp\\ipykernel_8832\\1584822519.py:117: FutureWarning: The behavior of `series[i:j]` with an integer-dtype index is deprecated. In a future version, this will be treated as *label-based* indexing, consistent with e.g. `series[i]` lookups. To retain the old behavior, use `series.iloc[i:j]`. To get the future behavior, use `series.loc[i:j]`.\n",
      "  batch_y = y[step*batch_size:(step+1)*batch_size]\n"
     ]
    },
    {
     "name": "stdout",
     "output_type": "stream",
     "text": [
      "step: 300, acc: 0.633, loss: 1.207 (data_loss: 1.207, reg_loss: 0.000), lr: 0.001\n",
      "step: 600, acc: 0.883, loss: 0.497 (data_loss: 0.497, reg_loss: 0.000), lr: 0.001\n",
      "step: 900, acc: 0.922, loss: 0.373 (data_loss: 0.373, reg_loss: 0.000), lr: 0.001\n",
      "step: 1200, acc: 0.859, loss: 0.402 (data_loss: 0.402, reg_loss: 0.000), lr: 0.001\n",
      "step: 1500, acc: 0.922, loss: 0.350 (data_loss: 0.350, reg_loss: 0.000), lr: 0.001\n",
      "step: 1800, acc: 0.953, loss: 0.183 (data_loss: 0.183, reg_loss: 0.000), lr: 0.001\n",
      "step: 1891, acc: 0.955, loss: 0.141 (data_loss: 0.141, reg_loss: 0.000), lr: 0.001\n",
      "training, acc: 0.819, loss: 0.611 (data_loss: 0.611, reg_loss: 0.000), lr: 0.001\n"
     ]
    },
    {
     "name": "stderr",
     "output_type": "stream",
     "text": [
      "C:\\Users\\mirza\\AppData\\Local\\Temp\\ipykernel_8832\\1584822519.py:208: FutureWarning: The behavior of `series[i:j]` with an integer-dtype index is deprecated. In a future version, this will be treated as *label-based* indexing, consistent with e.g. `series[i]` lookups. To retain the old behavior, use `series.iloc[i:j]`. To get the future behavior, use `series.loc[i:j]`.\n",
      "  batch_y = y_val[\n"
     ]
    },
    {
     "name": "stdout",
     "output_type": "stream",
     "text": [
      "validation, acc: 0.913, loss: 0.295\n",
      "epoch: 2\n",
      "step: 0, acc: 0.938, loss: 0.320 (data_loss: 0.320, reg_loss: 0.000), lr: 0.001\n",
      "step: 300, acc: 0.891, loss: 0.426 (data_loss: 0.426, reg_loss: 0.000), lr: 0.001\n",
      "step: 600, acc: 0.953, loss: 0.238 (data_loss: 0.238, reg_loss: 0.000), lr: 0.001\n",
      "step: 900, acc: 0.977, loss: 0.137 (data_loss: 0.137, reg_loss: 0.000), lr: 0.001\n",
      "step: 1200, acc: 0.930, loss: 0.168 (data_loss: 0.168, reg_loss: 0.000), lr: 0.001\n",
      "step: 1500, acc: 0.953, loss: 0.275 (data_loss: 0.275, reg_loss: 0.000), lr: 0.001\n",
      "step: 1800, acc: 0.961, loss: 0.137 (data_loss: 0.137, reg_loss: 0.000), lr: 0.001\n",
      "step: 1891, acc: 0.977, loss: 0.116 (data_loss: 0.116, reg_loss: 0.000), lr: 0.001\n",
      "training, acc: 0.939, loss: 0.212 (data_loss: 0.212, reg_loss: 0.000), lr: 0.001\n",
      "validation, acc: 0.948, loss: 0.185\n"
     ]
    },
    {
     "data": {
      "text/plain": "<Figure size 640x480 with 1 Axes>",
      "image/png": "[encoded data removed]"
     },
     "metadata": {},
     "output_type": "display_data"
    }
   ],
   "source": [
    "model2 = Model()\n",
    "\n",
    "model2.add(Layer_Dense(X.shape[1], 128))\n",
    "model2.add(Activation_ReLU())\n",
    "model2.add(Layer_Dense(128, 128))\n",
    "model2.add(Activation_ReLU())\n",
    "model2.add(Layer_Dense(128, 26))\n",
    "model2.add(Activation_Softmax())\n",
    "\n",
    "# Set loss, optimizer and accuracy objects\n",
    "model2.set(\n",
    "    loss=Loss_CategoricalCrossentropy(),\n",
    "    optimizer=Optimizer_RMSprop(),\n",
    "    accuracy=Accuracy_Categorical()\n",
    ")\n",
    "\n",
    "# Finalize the model\n",
    "model2.finalize()\n",
    "\n",
    "# Train the model\n",
    "model2.train(X, y, validation_data=(X_test, y_test), epochs=2, batch_size=128, print_every=300)"
   ],
   "metadata": {
    "collapsed": false
   }
  },
  {
   "cell_type": "code",
   "execution_count": 63,
   "outputs": [
    {
     "name": "stdout",
     "output_type": "stream",
     "text": [
      "validation, acc: 0.948, loss: 0.185\n"
     ]
    }
   ],
   "source": [
    "model2.evaluate(X_test, y_test)"
   ],
   "metadata": {
    "collapsed": false
   }
  },
  {
   "cell_type": "code",
   "execution_count": 64,
   "outputs": [
    {
     "name": "stdout",
     "output_type": "stream",
     "text": [
      "Prediction:  [ 1 13 14  0]\n",
      "Actual:      [ 1 13 14  0]\n"
     ]
    }
   ],
   "source": [
    "confidences = model2.predict(X_test[:4])\n",
    "predictions = model2.output_layer_activation.predictions(confidences)\n",
    "print(\"Prediction: \", predictions)\n",
    "print(\"Actual:     \", y_test_array[:4])"
   ],
   "metadata": {
    "collapsed": false
   }
  },
  {
   "cell_type": "code",
   "execution_count": 65,
   "outputs": [
    {
     "data": {
      "text/plain": "<Figure size 500x600 with 4 Axes>",
      "image/png": "[encoded data removed]"
     },
     "metadata": {},
     "output_type": "display_data"
    }
   ],
   "source": [
    "fig, axs = plt.subplots(2, 2, figsize=(5, 6))\n",
    "\n",
    "for i in range(4):\n",
    "    predicted_class = predictions[i]\n",
    "\n",
    "    predicted_letter = chr(ord('A') + predicted_class)\n",
    "\n",
    "    actual_class = y_test_array[i]\n",
    "\n",
    "    actual_letter = chr(ord('A') + actual_class)\n",
    "\n",
    "    row = i // 2\n",
    "    col = i % 2\n",
    "\n",
    "    axs[row, col].imshow(X_test[i].reshape(28, 28), cmap='gray')\n",
    "    axs[row, col].set_title(f\"Predicted: {predicted_letter}\\nActual: {actual_letter}\\n\")\n",
    "    axs[row, col].axis('off')\n",
    "\n",
    "plt.show()"
   ],
   "metadata": {
    "collapsed": false
   }
  },
  {
   "cell_type": "code",
   "execution_count": 66,
   "outputs": [
    {
     "name": "stdout",
     "output_type": "stream",
     "text": [
      "epoch: 1\n",
      "step: 0, acc: 0.000, loss: 3.258 (data_loss: 3.258, reg_loss: 0.000), lr: 0.2\n"
     ]
    },
    {
     "name": "stderr",
     "output_type": "stream",
     "text": [
      "C:\\Users\\mirza\\AppData\\Local\\Temp\\ipykernel_8832\\1584822519.py:117: FutureWarning: The behavior of `series[i:j]` with an integer-dtype index is deprecated. In a future version, this will be treated as *label-based* indexing, consistent with e.g. `series[i]` lookups. To retain the old behavior, use `series.iloc[i:j]`. To get the future behavior, use `series.loc[i:j]`.\n",
      "  batch_y = y[step*batch_size:(step+1)*batch_size]\n"
     ]
    },
    {
     "name": "stdout",
     "output_type": "stream",
     "text": [
      "step: 300, acc: 0.188, loss: 2.949 (data_loss: 2.949, reg_loss: 0.000), lr: 0.2\n",
      "step: 600, acc: 0.156, loss: 3.023 (data_loss: 3.023, reg_loss: 0.000), lr: 0.2\n",
      "step: 900, acc: 0.227, loss: 2.827 (data_loss: 2.827, reg_loss: 0.000), lr: 0.2\n",
      "step: 1200, acc: 0.148, loss: 2.900 (data_loss: 2.900, reg_loss: 0.000), lr: 0.2\n",
      "step: 1500, acc: 0.109, loss: 3.042 (data_loss: 3.042, reg_loss: 0.000), lr: 0.2\n",
      "step: 1800, acc: 0.086, loss: 2.998 (data_loss: 2.998, reg_loss: 0.000), lr: 0.2\n",
      "step: 1891, acc: 0.159, loss: 2.861 (data_loss: 2.861, reg_loss: 0.000), lr: 0.2\n",
      "training, acc: 0.149, loss: 2.992 (data_loss: 2.992, reg_loss: 0.000), lr: 0.2\n"
     ]
    },
    {
     "name": "stderr",
     "output_type": "stream",
     "text": [
      "C:\\Users\\mirza\\AppData\\Local\\Temp\\ipykernel_8832\\1584822519.py:208: FutureWarning: The behavior of `series[i:j]` with an integer-dtype index is deprecated. In a future version, this will be treated as *label-based* indexing, consistent with e.g. `series[i]` lookups. To retain the old behavior, use `series.iloc[i:j]`. To get the future behavior, use `series.loc[i:j]`.\n",
      "  batch_y = y_val[\n"
     ]
    },
    {
     "name": "stdout",
     "output_type": "stream",
     "text": [
      "validation, acc: 0.156, loss: 2.948\n",
      "epoch: 2\n",
      "step: 0, acc: 0.078, loss: 3.051 (data_loss: 3.051, reg_loss: 0.000), lr: 0.2\n",
      "step: 300, acc: 0.188, loss: 2.942 (data_loss: 2.942, reg_loss: 0.000), lr: 0.2\n",
      "step: 600, acc: 0.156, loss: 3.029 (data_loss: 3.029, reg_loss: 0.000), lr: 0.2\n",
      "step: 900, acc: 0.227, loss: 2.828 (data_loss: 2.828, reg_loss: 0.000), lr: 0.2\n",
      "step: 1200, acc: 0.148, loss: 2.902 (data_loss: 2.902, reg_loss: 0.000), lr: 0.2\n",
      "step: 1500, acc: 0.109, loss: 3.042 (data_loss: 3.042, reg_loss: 0.000), lr: 0.2\n",
      "step: 1800, acc: 0.086, loss: 2.997 (data_loss: 2.997, reg_loss: 0.000), lr: 0.2\n",
      "step: 1891, acc: 0.159, loss: 2.859 (data_loss: 2.859, reg_loss: 0.000), lr: 0.2\n",
      "training, acc: 0.148, loss: 2.948 (data_loss: 2.948, reg_loss: 0.000), lr: 0.2\n",
      "validation, acc: 0.156, loss: 2.948\n"
     ]
    },
    {
     "data": {
      "text/plain": "<Figure size 640x480 with 1 Axes>",
      "image/png": "[encoded data removed]"
     },
     "metadata": {},
     "output_type": "display_data"
    }
   ],
   "source": [
    "model3 = Model()\n",
    "\n",
    "model3.add(Layer_Dense(X.shape[1], 128))\n",
    "model3.add(Activation_ReLU())\n",
    "model3.add(Layer_Dense(128, 128))\n",
    "model3.add(Activation_ReLU())\n",
    "model3.add(Layer_Dense(128, 26))\n",
    "model3.add(Activation_Softmax())\n",
    "\n",
    "# Set loss, optimizer and accuracy objects\n",
    "model3.set(\n",
    "    loss=Loss_CategoricalCrossentropy(),\n",
    "    optimizer=Optimizer_Adam(learning_rate=0.2),\n",
    "    accuracy=Accuracy_Categorical()\n",
    ")\n",
    "\n",
    "# Finalize the model\n",
    "model3.finalize()\n",
    "\n",
    "# Train the model\n",
    "model3.train(X, y, validation_data=(X_test, y_test), epochs=2, batch_size=128, print_every=300)"
   ],
   "metadata": {
    "collapsed": false
   }
  },
  {
   "cell_type": "code",
   "execution_count": 67,
   "outputs": [
    {
     "name": "stdout",
     "output_type": "stream",
     "text": [
      "validation, acc: 0.156, loss: 2.948\n"
     ]
    }
   ],
   "source": [
    "model3.evaluate(X_test, y_test)"
   ],
   "metadata": {
    "collapsed": false
   }
  },
  {
   "cell_type": "code",
   "execution_count": 68,
   "outputs": [
    {
     "name": "stdout",
     "output_type": "stream",
     "text": [
      "Prediction:  [14 14 14 14]\n",
      "Actual:      [ 1 13 14  0]\n"
     ]
    }
   ],
   "source": [
    "confidences = model3.predict(X_test[:4])\n",
    "predictions = model3.output_layer_activation.predictions(confidences)\n",
    "print(\"Prediction: \", predictions)\n",
    "print(\"Actual:     \", y_test_array[:4])"
   ],
   "metadata": {
    "collapsed": false
   }
  },
  {
   "cell_type": "code",
   "execution_count": 68,
   "outputs": [],
   "source": [],
   "metadata": {
    "collapsed": false
   }
  }
 ],
 "metadata": {
  "kernelspec": {
   "display_name": "Python 3",
   "language": "python",
   "name": "python3"
  },
  "language_info": {
   "codemirror_mode": {
    "name": "ipython",
    "version": 2
   },
   "file_extension": ".py",
   "mimetype": "text/x-python",
   "name": "python",
   "nbconvert_exporter": "python",
   "pygments_lexer": "ipython2",
   "version": "2.7.6"
  }
 },
 "nbformat": 4,
 "nbformat_minor": 0
}
